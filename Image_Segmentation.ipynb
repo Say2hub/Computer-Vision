{
  "nbformat": 4,
  "nbformat_minor": 0,
  "metadata": {
    "colab": {
      "provenance": []
    },
    "kernelspec": {
      "name": "python3",
      "display_name": "Python 3"
    },
    "language_info": {
      "name": "python"
    }
  },
  "cells": [
    {
      "cell_type": "markdown",
      "source": [
        "###*Name: Sayantan Mukherjee 60009220131 D2-2*"
      ],
      "metadata": {
        "id": "1zrwSaqw68u4"
      }
    },
    {
      "cell_type": "code",
      "source": [
        "import numpy as np\n",
        "import cv2\n",
        "import random\n",
        "import matplotlib.pyplot as plt\n"
      ],
      "metadata": {
        "id": "l9PEWhZG7JVb"
      },
      "execution_count": null,
      "outputs": []
    },
    {
      "cell_type": "code",
      "source": [
        "def load_fashion_mnist_image():\n",
        "    from tensorflow.keras.datasets import fashion_mnist\n",
        "    (train_images, train_labels), (test_images, test_labels) = fashion_mnist.load_data()\n",
        "    index = random.randint(0, len(test_images)-1)\n",
        "    return test_images[index]\n"
      ],
      "metadata": {
        "id": "pyndeVo97UJl"
      },
      "execution_count": null,
      "outputs": []
    },
    {
      "cell_type": "code",
      "source": [
        "def region_growing(image, seed, threshold=15):\n",
        "    binary_image = np.zeros_like(image)\n",
        "    x, y = seed\n",
        "    mean_intensity = image[x, y]\n",
        "    pixels_to_process = [seed]\n",
        "    visited = np.zeros_like(image, dtype=bool)\n",
        "    visited[x, y] = True\n",
        "    binary_image[x, y] = 255\n",
        "    neighbors = [(-1, 0), (1, 0), (0, -1), (0, 1)]\n",
        "\n",
        "    while pixels_to_process:\n",
        "        curr_x, curr_y = pixels_to_process.pop()\n",
        "\n",
        "        for dx, dy in neighbors:\n",
        "            nx, ny = curr_x + dx, curr_y + dy\n",
        "            if 0 <= nx < image.shape[0] and 0 <= ny < image.shape[1] and not visited[nx, ny]:\n",
        "                diff = abs(int(image[nx, ny]) - mean_intensity)\n",
        "                if diff < threshold:\n",
        "                    visited[nx, ny] = True\n",
        "                    binary_image[nx, ny] = 255\n",
        "                    pixels_to_process.append((nx, ny))\n",
        "\n",
        "    return binary_image\n"
      ],
      "metadata": {
        "id": "IxvooLUy7W7b"
      },
      "execution_count": null,
      "outputs": []
    },
    {
      "cell_type": "code",
      "source": [
        "def region_merging_splitting(image, threshold=15):\n",
        "    binary_image = np.zeros_like(image)\n",
        "    regions = []\n",
        "\n",
        "    for i in range(0, image.shape[0], 10):\n",
        "        for j in range(0, image.shape[1], 10):\n",
        "            region = image[i:i+10, j:j+10]\n",
        "            avg_intensity = np.mean(region)\n",
        "            regions.append((i, j, avg_intensity, region))\n",
        "\n",
        "    for i in range(len(regions)):\n",
        "        for j in range(i + 1, len(regions)):\n",
        "            if abs(regions[i][2] - regions[j][2]) < threshold:\n",
        "                region_i = regions[i][3]\n",
        "                region_j = regions[j][3]\n",
        "\n",
        "                max_rows = max(region_i.shape[0], region_j.shape[0])\n",
        "                max_cols = max(region_i.shape[1], region_j.shape[1])\n",
        "\n",
        "                region_i_resized = cv2.resize(region_i, (max_cols, max_rows))\n",
        "                region_j_resized = cv2.resize(region_j, (max_cols, max_rows))\n",
        "\n",
        "                merged_region = np.maximum(region_i_resized, region_j_resized)\n",
        "\n",
        "                top_left_x = regions[i][0]\n",
        "                top_left_y = regions[i][1]\n",
        "\n",
        "                rows_in_image = min(max_rows, image.shape[0] - top_left_x)\n",
        "                cols_in_image = min(max_cols, image.shape[1] - top_left_y)\n",
        "\n",
        "                binary_image[top_left_x:top_left_x + rows_in_image, top_left_y:top_left_y + cols_in_image] = merged_region[:rows_in_image, :cols_in_image]\n",
        "\n",
        "    return binary_image\n"
      ],
      "metadata": {
        "id": "_Co0ZpDZ7bbf"
      },
      "execution_count": null,
      "outputs": []
    },
    {
      "cell_type": "code",
      "source": [
        "image = load_fashion_mnist_image()\n",
        "seed = (random.randint(0, image.shape[0]-1), random.randint(0, image.shape[1]-1))\n",
        "\n",
        "region_grown_image = region_growing(image, seed)\n",
        "region_merged_image = region_merging_splitting(image)\n",
        "\n",
        "plt.figure(figsize=(15, 5))\n",
        "plt.subplot(1, 3, 1)\n",
        "plt.imshow(image, cmap='gray')\n",
        "plt.title(\"Original Image\")\n",
        "plt.subplot(1, 3, 2)\n",
        "plt.imshow(region_grown_image, cmap='gray')\n",
        "plt.title(\"Region Growing\")\n",
        "plt.subplot(1, 3, 3)\n",
        "plt.imshow(region_merged_image, cmap='gray')\n",
        "plt.title(\"Region Merging and Splitting\")\n",
        "plt.show()\n"
      ],
      "metadata": {
        "colab": {
          "base_uri": "https://localhost:8080/",
          "height": 406
        },
        "id": "A_ho1TSa7eG2",
        "outputId": "dffe564a-ef6c-40cf-ba49-40e2c7a58763"
      },
      "execution_count": null,
      "outputs": [
        {
          "output_type": "display_data",
          "data": {
            "text/plain": [
              "<Figure size 1500x500 with 3 Axes>"
            ],
            "image/png": "[encoded data removed]"
          },
          "metadata": {}
        }
      ]
    },
    {
      "cell_type": "markdown",
      "source": [
        "##*Conclusion:*\n",
        "\n",
        "In this assignment, we successfully developed a Python program to manipulate images from the Fashion MNIST digits dataset using OpenCV. The core tasks of the assignment included implementing two key operations: region growing and region merging/splitting.\n",
        "\n",
        "###*Region Growing:*\n",
        "We initiated the process from a seed pixel and grew a region based on intensity differences between neighboring pixels. The region was extracted and highlighted in white in the output image. This operation demonstrated how a region in an image can be expanded based on predefined intensity thresholds, mimicking a region-based segmentation technique.\n",
        "\n",
        "###*Region Merging and Splitting:*\n",
        " We divided the image into smaller non-overlapping regions (10x10 blocks) and calculated the average intensity for each region. When two regions had similar intensity values, they were merged. This operation showed the effectiveness of merging adjacent similar regions to form larger homogeneous areas. If the regions did not match the threshold, they remained separate, demonstrating basic segmentation techniques based on intensity similarities."
      ],
      "metadata": {
        "id": "KT4WLPgI80Ax"
      }
    }
  ]
}